{
 "cells": [
  {
   "cell_type": "code",
   "execution_count": 1,
   "id": "b8ed36a5",
   "metadata": {},
   "outputs": [
    {
     "name": "stderr",
     "output_type": "stream",
     "text": [
      "c:\\Users\\miles\\Desktop\\DSMP\\Projects\\Hybrid-Recommender-System\\myenv\\Lib\\site-packages\\tqdm\\auto.py:21: TqdmWarning: IProgress not found. Please update jupyter and ipywidgets. See https://ipywidgets.readthedocs.io/en/stable/user_install.html\n",
      "  from .autonotebook import tqdm as notebook_tqdm\n"
     ]
    }
   ],
   "source": [
    "import kagglehub"
   ]
  },
  {
   "cell_type": "code",
   "execution_count": 2,
   "id": "46fb7c8d",
   "metadata": {},
   "outputs": [
    {
     "data": {
      "text/plain": [
       "'C:\\\\Users\\\\miles\\\\.cache\\\\kagglehub\\\\datasets\\\\undefinenull\\\\million-song-dataset-spotify-lastfm\\\\versions\\\\1'"
      ]
     },
     "execution_count": 2,
     "metadata": {},
     "output_type": "execute_result"
    }
   ],
   "source": [
    "# download the dataset from kaggle\n",
    "\n",
    "kagglehub.dataset_download(\"undefinenull/million-song-dataset-spotify-lastfm\")"
   ]
  },
  {
   "cell_type": "code",
   "execution_count": 3,
   "id": "23338e35",
   "metadata": {},
   "outputs": [],
   "source": [
    "import os\n",
    "from pathlib import Path\n",
    "import pandas as pd\n",
    "import numpy as np\n",
    "import matplotlib.pyplot as plt\n",
    "import seaborn as sns"
   ]
  },
  {
   "cell_type": "code",
   "execution_count": 4,
   "id": "9151a94d",
   "metadata": {},
   "outputs": [],
   "source": [
    "data_path = Path(\"C:\\\\Users\\\\miles\\\\.cache\\\\kagglehub\\\\datasets\\\\undefinenull\\\\million-song-dataset-spotify-lastfm\\\\versions\\\\1\")\n",
    "\n",
    "songs_data_path = data_path / 'Music Info.csv'\n",
    "users_data_path = data_path / 'User Listening History.csv'"
   ]
  },
  {
   "cell_type": "code",
   "execution_count": 5,
   "id": "7922da3f",
   "metadata": {},
   "outputs": [
    {
     "data": {
      "text/html": [
       "<div>\n",
       "<style scoped>\n",
       "    .dataframe tbody tr th:only-of-type {\n",
       "        vertical-align: middle;\n",
       "    }\n",
       "\n",
       "    .dataframe tbody tr th {\n",
       "        vertical-align: top;\n",
       "    }\n",
       "\n",
       "    .dataframe thead th {\n",
       "        text-align: right;\n",
       "    }\n",
       "</style>\n",
       "<table border=\"1\" class=\"dataframe\">\n",
       "  <thead>\n",
       "    <tr style=\"text-align: right;\">\n",
       "      <th></th>\n",
       "      <th>track_id</th>\n",
       "      <th>name</th>\n",
       "      <th>artist</th>\n",
       "      <th>spotify_preview_url</th>\n",
       "    </tr>\n",
       "  </thead>\n",
       "  <tbody>\n",
       "    <tr>\n",
       "      <th>0</th>\n",
       "      <td>TRIOREW128F424EAF0</td>\n",
       "      <td>Mr. Brightside</td>\n",
       "      <td>The Killers</td>\n",
       "      <td>https://p.scdn.co/mp3-preview/4d26180e6961fd46...</td>\n",
       "    </tr>\n",
       "    <tr>\n",
       "      <th>1</th>\n",
       "      <td>TRRIVDJ128F429B0E8</td>\n",
       "      <td>Wonderwall</td>\n",
       "      <td>Oasis</td>\n",
       "      <td>https://p.scdn.co/mp3-preview/d012e536916c927b...</td>\n",
       "    </tr>\n",
       "    <tr>\n",
       "      <th>2</th>\n",
       "      <td>TROUVHL128F426C441</td>\n",
       "      <td>Come as You Are</td>\n",
       "      <td>Nirvana</td>\n",
       "      <td>https://p.scdn.co/mp3-preview/a1c11bb1cb231031...</td>\n",
       "    </tr>\n",
       "    <tr>\n",
       "      <th>3</th>\n",
       "      <td>TRUEIND128F93038C4</td>\n",
       "      <td>Take Me Out</td>\n",
       "      <td>Franz Ferdinand</td>\n",
       "      <td>https://p.scdn.co/mp3-preview/399c401370438be4...</td>\n",
       "    </tr>\n",
       "    <tr>\n",
       "      <th>4</th>\n",
       "      <td>TRLNZBD128F935E4D8</td>\n",
       "      <td>Creep</td>\n",
       "      <td>Radiohead</td>\n",
       "      <td>https://p.scdn.co/mp3-preview/e7eb60e9466bc3a2...</td>\n",
       "    </tr>\n",
       "  </tbody>\n",
       "</table>\n",
       "</div>"
      ],
      "text/plain": [
       "             track_id             name           artist  \\\n",
       "0  TRIOREW128F424EAF0   Mr. Brightside      The Killers   \n",
       "1  TRRIVDJ128F429B0E8       Wonderwall            Oasis   \n",
       "2  TROUVHL128F426C441  Come as You Are          Nirvana   \n",
       "3  TRUEIND128F93038C4      Take Me Out  Franz Ferdinand   \n",
       "4  TRLNZBD128F935E4D8            Creep        Radiohead   \n",
       "\n",
       "                                 spotify_preview_url  \n",
       "0  https://p.scdn.co/mp3-preview/4d26180e6961fd46...  \n",
       "1  https://p.scdn.co/mp3-preview/d012e536916c927b...  \n",
       "2  https://p.scdn.co/mp3-preview/a1c11bb1cb231031...  \n",
       "3  https://p.scdn.co/mp3-preview/399c401370438be4...  \n",
       "4  https://p.scdn.co/mp3-preview/e7eb60e9466bc3a2...  "
      ]
     },
     "execution_count": 5,
     "metadata": {},
     "output_type": "execute_result"
    }
   ],
   "source": [
    "songs_df = pd.read_csv(songs_data_path, usecols=[\"track_id\",\"name\",\"artist\",\"spotify_preview_url\"])\n",
    "\n",
    "songs_df.head()"
   ]
  },
  {
   "cell_type": "code",
   "execution_count": 6,
   "id": "12f1271c",
   "metadata": {},
   "outputs": [
    {
     "data": {
      "text/html": [
       "<div>\n",
       "<style scoped>\n",
       "    .dataframe tbody tr th:only-of-type {\n",
       "        vertical-align: middle;\n",
       "    }\n",
       "\n",
       "    .dataframe tbody tr th {\n",
       "        vertical-align: top;\n",
       "    }\n",
       "\n",
       "    .dataframe thead th {\n",
       "        text-align: right;\n",
       "    }\n",
       "</style>\n",
       "<table border=\"1\" class=\"dataframe\">\n",
       "  <thead>\n",
       "    <tr style=\"text-align: right;\">\n",
       "      <th></th>\n",
       "      <th>track_id</th>\n",
       "      <th>user_id</th>\n",
       "      <th>playcount</th>\n",
       "    </tr>\n",
       "  </thead>\n",
       "  <tbody>\n",
       "    <tr>\n",
       "      <th>0</th>\n",
       "      <td>TRIRLYL128F42539D1</td>\n",
       "      <td>b80344d063b5ccb3212f76538f3d9e43d87dca9e</td>\n",
       "      <td>1</td>\n",
       "    </tr>\n",
       "    <tr>\n",
       "      <th>1</th>\n",
       "      <td>TRFUPBA128F934F7E1</td>\n",
       "      <td>b80344d063b5ccb3212f76538f3d9e43d87dca9e</td>\n",
       "      <td>1</td>\n",
       "    </tr>\n",
       "    <tr>\n",
       "      <th>2</th>\n",
       "      <td>TRLQPQJ128F42AA94F</td>\n",
       "      <td>b80344d063b5ccb3212f76538f3d9e43d87dca9e</td>\n",
       "      <td>1</td>\n",
       "    </tr>\n",
       "    <tr>\n",
       "      <th>3</th>\n",
       "      <td>TRTUCUY128F92E1D24</td>\n",
       "      <td>b80344d063b5ccb3212f76538f3d9e43d87dca9e</td>\n",
       "      <td>1</td>\n",
       "    </tr>\n",
       "    <tr>\n",
       "      <th>4</th>\n",
       "      <td>TRHDDQG12903CB53EE</td>\n",
       "      <td>b80344d063b5ccb3212f76538f3d9e43d87dca9e</td>\n",
       "      <td>1</td>\n",
       "    </tr>\n",
       "  </tbody>\n",
       "</table>\n",
       "</div>"
      ],
      "text/plain": [
       "             track_id                                   user_id  playcount\n",
       "0  TRIRLYL128F42539D1  b80344d063b5ccb3212f76538f3d9e43d87dca9e          1\n",
       "1  TRFUPBA128F934F7E1  b80344d063b5ccb3212f76538f3d9e43d87dca9e          1\n",
       "2  TRLQPQJ128F42AA94F  b80344d063b5ccb3212f76538f3d9e43d87dca9e          1\n",
       "3  TRTUCUY128F92E1D24  b80344d063b5ccb3212f76538f3d9e43d87dca9e          1\n",
       "4  TRHDDQG12903CB53EE  b80344d063b5ccb3212f76538f3d9e43d87dca9e          1"
      ]
     },
     "execution_count": 6,
     "metadata": {},
     "output_type": "execute_result"
    }
   ],
   "source": [
    "import dask.dataframe as dd\n",
    "\n",
    "# Load the dataset\n",
    "df = dd.read_csv(users_data_path)\n",
    "\n",
    "# Check the first few rows to verify the data\n",
    "df.head()\n",
    "     "
   ]
  },
  {
   "cell_type": "code",
   "execution_count": 7,
   "id": "62ea314c",
   "metadata": {},
   "outputs": [
    {
     "data": {
      "text/plain": [
       "9"
      ]
     },
     "execution_count": 7,
     "metadata": {},
     "output_type": "execute_result"
    }
   ],
   "source": [
    "df.npartitions"
   ]
  },
  {
   "cell_type": "code",
   "execution_count": 8,
   "id": "90dc5776",
   "metadata": {},
   "outputs": [
    {
     "data": {
      "image/png": "[encoded data removed]",
      "text/plain": [
       "<IPython.core.display.Image object>"
      ]
     },
     "execution_count": 8,
     "metadata": {},
     "output_type": "execute_result"
    }
   ],
   "source": [
    "df.visualize(tasks=True)"
   ]
  },
  {
   "cell_type": "code",
   "execution_count": 11,
   "id": "cd527473",
   "metadata": {},
   "outputs": [],
   "source": [
    "# number of unique tracks in the data\n",
    "unique_tracks = df['track_id'].nunique()"
   ]
  },
  {
   "cell_type": "code",
   "execution_count": 12,
   "id": "80b60306",
   "metadata": {},
   "outputs": [
    {
     "data": {
      "image/svg+xml": [
       "<?xml version=\"1.0\" encoding=\"UTF-8\" standalone=\"no\"?>\n",
       "<!DOCTYPE svg PUBLIC \"-//W3C//DTD SVG 1.1//EN\"\n",
       " \"http://www.w3.org/Graphics/SVG/1.1/DTD/svg11.dtd\">\n",
       "<!-- Generated by graphviz version 13.1.0 (20250701.0955)\n",
       " -->\n",
       "<!-- Pages: 1 -->\n",
       "<svg width=\"430pt\" height=\"332pt\"\n",
       " viewBox=\"0.00 0.00 430.00 332.00\" xmlns=\"http://www.w3.org/2000/svg\" xmlns:xlink=\"http://www.w3.org/1999/xlink\">\n",
       "<g id=\"graph0\" class=\"graph\" transform=\"scale(1 1) rotate(0) translate(4 328)\">\n",
       "<polygon fill=\"white\" stroke=\"none\" points=\"-4,4 -4,-328 425.75,-328 425.75,4 -4,4\"/>\n",
       "<!-- &#45;348956112901032129 -->\n",
       "<g id=\"node1\" class=\"node\">\n",
       "<title>&#45;348956112901032129</title>\n",
       "<polygon fill=\"none\" stroke=\"black\" points=\"320.5,-324 101.25,-324 101.25,-288 320.5,-288 320.5,-324\"/>\n",
       "<text xml:space=\"preserve\" text-anchor=\"middle\" x=\"210.88\" y=\"-298.62\" font-family=\"Helvetica,sans-Serif\" font-size=\"20.00\">Count(DropDuplicates)</text>\n",
       "</g>\n",
       "<!-- 8537207437456614983 -->\n",
       "<g id=\"node2\" class=\"node\">\n",
       "<title>8537207437456614983</title>\n",
       "<polygon fill=\"none\" stroke=\"black\" points=\"338.5,-252 83.25,-252 83.25,-216 338.5,-216 338.5,-252\"/>\n",
       "<text xml:space=\"preserve\" text-anchor=\"middle\" x=\"210.88\" y=\"-226.62\" font-family=\"Helvetica,sans-Serif\" font-size=\"20.00\">DropDuplicates(Projection)</text>\n",
       "</g>\n",
       "<!-- 8537207437456614983&#45;&gt;&#45;348956112901032129 -->\n",
       "<g id=\"edge1\" class=\"edge\">\n",
       "<title>8537207437456614983&#45;&gt;&#45;348956112901032129</title>\n",
       "<path fill=\"none\" stroke=\"black\" d=\"M210.88,-252.3C210.88,-259.59 210.88,-268.27 210.88,-276.46\"/>\n",
       "<polygon fill=\"black\" stroke=\"black\" points=\"207.38,-276.38 210.88,-286.38 214.38,-276.38 207.38,-276.38\"/>\n",
       "</g>\n",
       "<!-- &#45;2578926689071551817 -->\n",
       "<g id=\"node3\" class=\"node\">\n",
       "<title>&#45;2578926689071551817</title>\n",
       "<polygon fill=\"none\" stroke=\"black\" points=\"413.5,-180 8.25,-180 8.25,-144 413.5,-144 413.5,-180\"/>\n",
       "<text xml:space=\"preserve\" text-anchor=\"middle\" x=\"210.88\" y=\"-154.62\" font-family=\"Helvetica,sans-Serif\" font-size=\"20.00\">Projection(ArrowStringConversion, track_id)</text>\n",
       "</g>\n",
       "<!-- &#45;2578926689071551817&#45;&gt;8537207437456614983 -->\n",
       "<g id=\"edge2\" class=\"edge\">\n",
       "<title>&#45;2578926689071551817&#45;&gt;8537207437456614983</title>\n",
       "<path fill=\"none\" stroke=\"black\" d=\"M210.88,-180.3C210.88,-187.59 210.88,-196.27 210.88,-204.46\"/>\n",
       "<polygon fill=\"black\" stroke=\"black\" points=\"207.38,-204.38 210.88,-214.38 214.38,-204.38 207.38,-204.38\"/>\n",
       "</g>\n",
       "<!-- &#45;5184740427104928703 -->\n",
       "<g id=\"node4\" class=\"node\">\n",
       "<title>&#45;5184740427104928703</title>\n",
       "<polygon fill=\"none\" stroke=\"black\" points=\"421.75,-108 0,-108 0,-72 421.75,-72 421.75,-108\"/>\n",
       "<text xml:space=\"preserve\" text-anchor=\"middle\" x=\"210.88\" y=\"-82.62\" font-family=\"Helvetica,sans-Serif\" font-size=\"20.00\">ArrowStringConversion(FromMapProjectable)</text>\n",
       "</g>\n",
       "<!-- &#45;5184740427104928703&#45;&gt;&#45;2578926689071551817 -->\n",
       "<g id=\"edge3\" class=\"edge\">\n",
       "<title>&#45;5184740427104928703&#45;&gt;&#45;2578926689071551817</title>\n",
       "<path fill=\"none\" stroke=\"black\" d=\"M210.88,-108.3C210.88,-115.59 210.88,-124.27 210.88,-132.46\"/>\n",
       "<polygon fill=\"black\" stroke=\"black\" points=\"207.38,-132.38 210.88,-142.38 214.38,-132.38 207.38,-132.38\"/>\n",
       "</g>\n",
       "<!-- &#45;8329727678321614025 -->\n",
       "<g id=\"node5\" class=\"node\">\n",
       "<title>&#45;8329727678321614025</title>\n",
       "<polygon fill=\"none\" stroke=\"black\" points=\"311.88,-36 109.88,-36 109.88,0 311.88,0 311.88,-36\"/>\n",
       "<text xml:space=\"preserve\" text-anchor=\"middle\" x=\"210.88\" y=\"-10.62\" font-family=\"Helvetica,sans-Serif\" font-size=\"20.00\">FromMapProjectable</text>\n",
       "</g>\n",
       "<!-- &#45;8329727678321614025&#45;&gt;&#45;5184740427104928703 -->\n",
       "<g id=\"edge4\" class=\"edge\">\n",
       "<title>&#45;8329727678321614025&#45;&gt;&#45;5184740427104928703</title>\n",
       "<path fill=\"none\" stroke=\"black\" d=\"M210.88,-36.3C210.88,-43.59 210.88,-52.27 210.88,-60.46\"/>\n",
       "<polygon fill=\"black\" stroke=\"black\" points=\"207.38,-60.38 210.88,-70.38 214.38,-60.38 207.38,-60.38\"/>\n",
       "</g>\n",
       "</g>\n",
       "</svg>\n"
      ],
      "text/plain": [
       "<graphviz.graphs.Digraph at 0x22cea1e3ed0>"
      ]
     },
     "execution_count": 12,
     "metadata": {},
     "output_type": "execute_result"
    }
   ],
   "source": [
    "unique_tracks.visualize()"
   ]
  },
  {
   "cell_type": "code",
   "execution_count": 13,
   "id": "cedd7d6f",
   "metadata": {},
   "outputs": [
    {
     "data": {
      "text/plain": [
       "<dask_expr.expr.Scalar: expr=(DropDuplicates(frame=ArrowStringConversion(frame=FromMapProjectable(71ac254))['track_id'], split_every=False)).count(), dtype=int64>"
      ]
     },
     "execution_count": 13,
     "metadata": {},
     "output_type": "execute_result"
    }
   ],
   "source": [
    "unique_tracks"
   ]
  },
  {
   "cell_type": "code",
   "execution_count": 58,
   "id": "46c9e378",
   "metadata": {},
   "outputs": [],
   "source": [
    "unique_tracks = unique_tracks.compute()"
   ]
  },
  {
   "cell_type": "code",
   "execution_count": 15,
   "id": "25cc2b19",
   "metadata": {},
   "outputs": [
    {
     "data": {
      "text/plain": [
       "962037"
      ]
     },
     "execution_count": 15,
     "metadata": {},
     "output_type": "execute_result"
    }
   ],
   "source": [
    "# number of users in the data\n",
    "unique_users = df['user_id'].nunique().compute()\n",
    "unique_users"
   ]
  },
  {
   "cell_type": "code",
   "execution_count": 16,
   "id": "1a65a446",
   "metadata": {},
   "outputs": [
    {
     "data": {
      "text/plain": [
       "0       TRLXSNR128F429361D\n",
       "1       TRPUGUW128F426BF6F\n",
       "2       TRISTWT128F1488FBB\n",
       "3       TRKPWGR128E078EE06\n",
       "4       TRXQJWK128F146DF76\n",
       "               ...        \n",
       "3348    TRXQMQE128F42268ED\n",
       "3349    TRAVLOL128F428206C\n",
       "3350    TRPMWJF128F4292372\n",
       "3351    TRRPLPU128F4275697\n",
       "3352    TRDLVZX12903CC58EB\n",
       "Name: track_id, Length: 30459, dtype: string"
      ]
     },
     "execution_count": 16,
     "metadata": {},
     "output_type": "execute_result"
    }
   ],
   "source": [
    "unique_tracks_ids = df['track_id'].unique().compute()\n",
    "unique_tracks_ids"
   ]
  },
  {
   "cell_type": "code",
   "execution_count": 24,
   "id": "d2bbe434",
   "metadata": {},
   "outputs": [],
   "source": [
    "unique_track_ids = df['track_id'].unique().compute().values.tolist()"
   ]
  },
  {
   "cell_type": "code",
   "execution_count": 25,
   "id": "b9098025",
   "metadata": {},
   "outputs": [
    {
     "data": {
      "text/plain": [
       "30459"
      ]
     },
     "execution_count": 25,
     "metadata": {},
     "output_type": "execute_result"
    }
   ],
   "source": [
    "len(unique_track_ids)"
   ]
  },
  {
   "cell_type": "code",
   "execution_count": 26,
   "id": "043cd4b6",
   "metadata": {},
   "outputs": [],
   "source": [
    "# filtered songs\n",
    "filtered_songs = songs_df[songs_df['track_id'].isin(unique_track_ids)]\n",
    "filtered_songs.reset_index(drop = True, inplace = True)"
   ]
  },
  {
   "cell_type": "code",
   "execution_count": 27,
   "id": "f65586b1",
   "metadata": {},
   "outputs": [
    {
     "data": {
      "text/html": [
       "<div>\n",
       "<style scoped>\n",
       "    .dataframe tbody tr th:only-of-type {\n",
       "        vertical-align: middle;\n",
       "    }\n",
       "\n",
       "    .dataframe tbody tr th {\n",
       "        vertical-align: top;\n",
       "    }\n",
       "\n",
       "    .dataframe thead th {\n",
       "        text-align: right;\n",
       "    }\n",
       "</style>\n",
       "<table border=\"1\" class=\"dataframe\">\n",
       "  <thead>\n",
       "    <tr style=\"text-align: right;\">\n",
       "      <th></th>\n",
       "      <th>track_id</th>\n",
       "      <th>name</th>\n",
       "      <th>artist</th>\n",
       "      <th>spotify_preview_url</th>\n",
       "    </tr>\n",
       "  </thead>\n",
       "  <tbody>\n",
       "    <tr>\n",
       "      <th>0</th>\n",
       "      <td>TRIOREW128F424EAF0</td>\n",
       "      <td>Mr. Brightside</td>\n",
       "      <td>The Killers</td>\n",
       "      <td>https://p.scdn.co/mp3-preview/4d26180e6961fd46...</td>\n",
       "    </tr>\n",
       "    <tr>\n",
       "      <th>1</th>\n",
       "      <td>TRRIVDJ128F429B0E8</td>\n",
       "      <td>Wonderwall</td>\n",
       "      <td>Oasis</td>\n",
       "      <td>https://p.scdn.co/mp3-preview/d012e536916c927b...</td>\n",
       "    </tr>\n",
       "    <tr>\n",
       "      <th>2</th>\n",
       "      <td>TRUEIND128F93038C4</td>\n",
       "      <td>Take Me Out</td>\n",
       "      <td>Franz Ferdinand</td>\n",
       "      <td>https://p.scdn.co/mp3-preview/399c401370438be4...</td>\n",
       "    </tr>\n",
       "    <tr>\n",
       "      <th>3</th>\n",
       "      <td>TRXOGZT128F424AD74</td>\n",
       "      <td>Karma Police</td>\n",
       "      <td>Radiohead</td>\n",
       "      <td>https://p.scdn.co/mp3-preview/5a09f5390e2862af...</td>\n",
       "    </tr>\n",
       "    <tr>\n",
       "      <th>4</th>\n",
       "      <td>TRUJIIV12903CA8848</td>\n",
       "      <td>Clocks</td>\n",
       "      <td>Coldplay</td>\n",
       "      <td>https://p.scdn.co/mp3-preview/24c7fe858b234e3c...</td>\n",
       "    </tr>\n",
       "    <tr>\n",
       "      <th>...</th>\n",
       "      <td>...</td>\n",
       "      <td>...</td>\n",
       "      <td>...</td>\n",
       "      <td>...</td>\n",
       "    </tr>\n",
       "    <tr>\n",
       "      <th>30454</th>\n",
       "      <td>TRXWSIN128F9339A11</td>\n",
       "      <td>Infinite Love Song</td>\n",
       "      <td>Maximilian Hecker</td>\n",
       "      <td>https://p.scdn.co/mp3-preview/8b3d529025fe3c60...</td>\n",
       "    </tr>\n",
       "    <tr>\n",
       "      <th>30455</th>\n",
       "      <td>TRPIGDW12903CDEB2D</td>\n",
       "      <td>Slip of the Lip</td>\n",
       "      <td>Fact</td>\n",
       "      <td>https://p.scdn.co/mp3-preview/cf64490291f9a600...</td>\n",
       "    </tr>\n",
       "    <tr>\n",
       "      <th>30456</th>\n",
       "      <td>TRQYCFV128F9322F50</td>\n",
       "      <td>Ryusei Rocket</td>\n",
       "      <td>アンティック-珈琲店-</td>\n",
       "      <td>https://p.scdn.co/mp3-preview/d2668a5a3e0b1fda...</td>\n",
       "    </tr>\n",
       "    <tr>\n",
       "      <th>30457</th>\n",
       "      <td>TRHQCSH128F42724B7</td>\n",
       "      <td>Colors Of The Wind</td>\n",
       "      <td>ACIDMAN</td>\n",
       "      <td>https://p.scdn.co/mp3-preview/8e22a7052ef3ecf7...</td>\n",
       "    </tr>\n",
       "    <tr>\n",
       "      <th>30458</th>\n",
       "      <td>TRGLMEM128F9322F63</td>\n",
       "      <td>Koi no Dependence</td>\n",
       "      <td>アンティック-珈琲店-</td>\n",
       "      <td>https://p.scdn.co/mp3-preview/5a61e031df174666...</td>\n",
       "    </tr>\n",
       "  </tbody>\n",
       "</table>\n",
       "<p>30459 rows × 4 columns</p>\n",
       "</div>"
      ],
      "text/plain": [
       "                 track_id                name             artist  \\\n",
       "0      TRIOREW128F424EAF0      Mr. Brightside        The Killers   \n",
       "1      TRRIVDJ128F429B0E8          Wonderwall              Oasis   \n",
       "2      TRUEIND128F93038C4         Take Me Out    Franz Ferdinand   \n",
       "3      TRXOGZT128F424AD74        Karma Police          Radiohead   \n",
       "4      TRUJIIV12903CA8848              Clocks           Coldplay   \n",
       "...                   ...                 ...                ...   \n",
       "30454  TRXWSIN128F9339A11  Infinite Love Song  Maximilian Hecker   \n",
       "30455  TRPIGDW12903CDEB2D     Slip of the Lip               Fact   \n",
       "30456  TRQYCFV128F9322F50       Ryusei Rocket        アンティック-珈琲店-   \n",
       "30457  TRHQCSH128F42724B7  Colors Of The Wind            ACIDMAN   \n",
       "30458  TRGLMEM128F9322F63   Koi no Dependence        アンティック-珈琲店-   \n",
       "\n",
       "                                     spotify_preview_url  \n",
       "0      https://p.scdn.co/mp3-preview/4d26180e6961fd46...  \n",
       "1      https://p.scdn.co/mp3-preview/d012e536916c927b...  \n",
       "2      https://p.scdn.co/mp3-preview/399c401370438be4...  \n",
       "3      https://p.scdn.co/mp3-preview/5a09f5390e2862af...  \n",
       "4      https://p.scdn.co/mp3-preview/24c7fe858b234e3c...  \n",
       "...                                                  ...  \n",
       "30454  https://p.scdn.co/mp3-preview/8b3d529025fe3c60...  \n",
       "30455  https://p.scdn.co/mp3-preview/cf64490291f9a600...  \n",
       "30456  https://p.scdn.co/mp3-preview/d2668a5a3e0b1fda...  \n",
       "30457  https://p.scdn.co/mp3-preview/8e22a7052ef3ecf7...  \n",
       "30458  https://p.scdn.co/mp3-preview/5a61e031df174666...  \n",
       "\n",
       "[30459 rows x 4 columns]"
      ]
     },
     "execution_count": 27,
     "metadata": {},
     "output_type": "execute_result"
    }
   ],
   "source": [
    "filtered_songs"
   ]
  },
  {
   "cell_type": "code",
   "execution_count": 28,
   "id": "06d0af2c",
   "metadata": {},
   "outputs": [
    {
     "data": {
      "text/html": [
       "<div>\n",
       "<style scoped>\n",
       "    .dataframe tbody tr th:only-of-type {\n",
       "        vertical-align: middle;\n",
       "    }\n",
       "\n",
       "    .dataframe tbody tr th {\n",
       "        vertical-align: top;\n",
       "    }\n",
       "\n",
       "    .dataframe thead th {\n",
       "        text-align: right;\n",
       "    }\n",
       "</style>\n",
       "<table border=\"1\" class=\"dataframe\">\n",
       "  <thead>\n",
       "    <tr style=\"text-align: right;\">\n",
       "      <th></th>\n",
       "      <th>track_id</th>\n",
       "      <th>name</th>\n",
       "      <th>artist</th>\n",
       "      <th>spotify_preview_url</th>\n",
       "    </tr>\n",
       "  </thead>\n",
       "  <tbody>\n",
       "    <tr>\n",
       "      <th>3337</th>\n",
       "      <td>TROINZB128F932F740</td>\n",
       "      <td>Crazy in Love</td>\n",
       "      <td>Beyoncé</td>\n",
       "      <td>https://p.scdn.co/mp3-preview/807828ea7070bda7...</td>\n",
       "    </tr>\n",
       "  </tbody>\n",
       "</table>\n",
       "</div>"
      ],
      "text/plain": [
       "                track_id           name   artist  \\\n",
       "3337  TROINZB128F932F740  Crazy in Love  Beyoncé   \n",
       "\n",
       "                                    spotify_preview_url  \n",
       "3337  https://p.scdn.co/mp3-preview/807828ea7070bda7...  "
      ]
     },
     "execution_count": 28,
     "metadata": {},
     "output_type": "execute_result"
    }
   ],
   "source": [
    "filtered_songs[filtered_songs['name'] == 'Crazy in Love']"
   ]
  },
  {
   "cell_type": "code",
   "execution_count": 29,
   "id": "9ad30619",
   "metadata": {},
   "outputs": [],
   "source": [
    "# form interaction matrix\n",
    "# index -> track id\n",
    "# columns -> user ids\n",
    "# values -> play-count"
   ]
  },
  {
   "cell_type": "code",
   "execution_count": 30,
   "id": "756afd09",
   "metadata": {},
   "outputs": [],
   "source": [
    "# convert string names to integer"
   ]
  },
  {
   "cell_type": "code",
   "execution_count": 31,
   "id": "25530bc1",
   "metadata": {},
   "outputs": [],
   "source": [
    "from scipy.sparse import csr_matrix"
   ]
  },
  {
   "cell_type": "code",
   "execution_count": 32,
   "id": "323f4b5c",
   "metadata": {},
   "outputs": [],
   "source": [
    "df = dd.read_csv(users_data_path)"
   ]
  },
  {
   "cell_type": "code",
   "execution_count": 33,
   "id": "b1f7fec7",
   "metadata": {},
   "outputs": [],
   "source": [
    "df['playcount'] = df['playcount'].astype(np.float64)"
   ]
  },
  {
   "cell_type": "code",
   "execution_count": 34,
   "id": "abb98cc3",
   "metadata": {},
   "outputs": [],
   "source": [
    "df = df.categorize(columns=['user_id', 'track_id'])"
   ]
  },
  {
   "cell_type": "code",
   "execution_count": 35,
   "id": "20024ba1",
   "metadata": {},
   "outputs": [],
   "source": [
    "user_mapping = df['user_id'].cat.codes\n",
    "track_mapping = df['track_id'].cat.codes"
   ]
  },
  {
   "cell_type": "code",
   "execution_count": 36,
   "id": "700c1b17",
   "metadata": {},
   "outputs": [],
   "source": [
    "df = df.assign(\n",
    "    user_idx = user_mapping,\n",
    "    track_idx = track_mapping\n",
    ")"
   ]
  },
  {
   "cell_type": "code",
   "execution_count": 38,
   "id": "973f4f03",
   "metadata": {},
   "outputs": [
    {
     "data": {
      "image/svg+xml": [
       "<?xml version=\"1.0\" encoding=\"UTF-8\" standalone=\"no\"?>\n",
       "<!DOCTYPE svg PUBLIC \"-//W3C//DTD SVG 1.1//EN\"\n",
       " \"http://www.w3.org/Graphics/SVG/1.1/DTD/svg11.dtd\">\n",
       "<!-- Generated by graphviz version 13.1.0 (20250701.0955)\n",
       " -->\n",
       "<!-- Pages: 1 -->\n",
       "<svg width=\"773pt\" height=\"620pt\"\n",
       " viewBox=\"0.00 0.00 773.00 620.00\" xmlns=\"http://www.w3.org/2000/svg\" xmlns:xlink=\"http://www.w3.org/1999/xlink\">\n",
       "<g id=\"graph0\" class=\"graph\" transform=\"scale(1 1) rotate(0) translate(4 616)\">\n",
       "<polygon fill=\"white\" stroke=\"none\" points=\"-4,4 -4,-616 768.5,-616 768.5,4 -4,4\"/>\n",
       "<!-- &#45;743875936974374627 -->\n",
       "<g id=\"node1\" class=\"node\">\n",
       "<title>&#45;743875936974374627</title>\n",
       "<polygon fill=\"none\" stroke=\"black\" points=\"613,-612 0,-612 0,-576 613,-576 613,-612\"/>\n",
       "<text xml:space=\"preserve\" text-anchor=\"middle\" x=\"306.5\" y=\"-586.62\" font-family=\"Helvetica,sans-Serif\" font-size=\"20.00\">Assign(Categorize, user_idx, PropertyMap, track_idx, PropertyMap)</text>\n",
       "</g>\n",
       "<!-- 4404785584976077747 -->\n",
       "<g id=\"node2\" class=\"node\">\n",
       "<title>4404785584976077747</title>\n",
       "<polygon fill=\"none\" stroke=\"black\" points=\"423.25,-540 189.75,-540 189.75,-504 423.25,-504 423.25,-540\"/>\n",
       "<text xml:space=\"preserve\" text-anchor=\"middle\" x=\"306.5\" y=\"-514.62\" font-family=\"Helvetica,sans-Serif\" font-size=\"20.00\">PropertyMap(Projection)</text>\n",
       "</g>\n",
       "<!-- 4404785584976077747&#45;&gt;&#45;743875936974374627 -->\n",
       "<g id=\"edge2\" class=\"edge\">\n",
       "<title>4404785584976077747&#45;&gt;&#45;743875936974374627</title>\n",
       "<path fill=\"none\" stroke=\"black\" d=\"M306.5,-540.3C306.5,-547.59 306.5,-556.27 306.5,-564.46\"/>\n",
       "<polygon fill=\"black\" stroke=\"black\" points=\"303,-564.38 306.5,-574.38 310,-564.38 303,-564.38\"/>\n",
       "</g>\n",
       "<!-- 2002653325213907490 -->\n",
       "<g id=\"node3\" class=\"node\">\n",
       "<title>2002653325213907490</title>\n",
       "<polygon fill=\"none\" stroke=\"black\" points=\"454.38,-468 158.62,-468 158.62,-432 454.38,-432 454.38,-468\"/>\n",
       "<text xml:space=\"preserve\" text-anchor=\"middle\" x=\"306.5\" y=\"-442.62\" font-family=\"Helvetica,sans-Serif\" font-size=\"20.00\">Projection(Categorize, track_id)</text>\n",
       "</g>\n",
       "<!-- 2002653325213907490&#45;&gt;4404785584976077747 -->\n",
       "<g id=\"edge4\" class=\"edge\">\n",
       "<title>2002653325213907490&#45;&gt;4404785584976077747</title>\n",
       "<path fill=\"none\" stroke=\"black\" d=\"M306.5,-468.3C306.5,-475.59 306.5,-484.27 306.5,-492.46\"/>\n",
       "<polygon fill=\"black\" stroke=\"black\" points=\"303,-492.38 306.5,-502.38 310,-492.38 303,-492.38\"/>\n",
       "</g>\n",
       "<!-- 4751800899258354186 -->\n",
       "<g id=\"node4\" class=\"node\">\n",
       "<title>4751800899258354186</title>\n",
       "<polygon fill=\"none\" stroke=\"black\" points=\"399.62,-396 213.38,-396 213.38,-360 399.62,-360 399.62,-396\"/>\n",
       "<text xml:space=\"preserve\" text-anchor=\"middle\" x=\"306.5\" y=\"-370.62\" font-family=\"Helvetica,sans-Serif\" font-size=\"20.00\">Categorize(Assign)</text>\n",
       "</g>\n",
       "<!-- 4751800899258354186&#45;&gt;&#45;743875936974374627 -->\n",
       "<g id=\"edge1\" class=\"edge\">\n",
       "<title>4751800899258354186&#45;&gt;&#45;743875936974374627</title>\n",
       "<path fill=\"none\" stroke=\"black\" d=\"M213.12,-390.42C188.49,-398.17 164.6,-410.97 149.5,-432 126.98,-463.37 179.12,-538.63 180.5,-540 194.02,-553.41 211.45,-563.62 229,-571.32\"/>\n",
       "<polygon fill=\"black\" stroke=\"black\" points=\"227.35,-574.42 237.92,-574.99 230.01,-567.95 227.35,-574.42\"/>\n",
       "</g>\n",
       "<!-- 4751800899258354186&#45;&gt;2002653325213907490 -->\n",
       "<g id=\"edge5\" class=\"edge\">\n",
       "<title>4751800899258354186&#45;&gt;2002653325213907490</title>\n",
       "<path fill=\"none\" stroke=\"black\" d=\"M306.5,-396.3C306.5,-403.59 306.5,-412.27 306.5,-420.46\"/>\n",
       "<polygon fill=\"black\" stroke=\"black\" points=\"303,-420.38 306.5,-430.38 310,-420.38 303,-420.38\"/>\n",
       "</g>\n",
       "<!-- &#45;7202486121572320265 -->\n",
       "<g id=\"node11\" class=\"node\">\n",
       "<title>&#45;7202486121572320265</title>\n",
       "<polygon fill=\"none\" stroke=\"black\" points=\"764.5,-468 472.5,-468 472.5,-432 764.5,-432 764.5,-468\"/>\n",
       "<text xml:space=\"preserve\" text-anchor=\"middle\" x=\"618.5\" y=\"-442.62\" font-family=\"Helvetica,sans-Serif\" font-size=\"20.00\">Projection(Categorize, user_id)</text>\n",
       "</g>\n",
       "<!-- 4751800899258354186&#45;&gt;&#45;7202486121572320265 -->\n",
       "<g id=\"edge13\" class=\"edge\">\n",
       "<title>4751800899258354186&#45;&gt;&#45;7202486121572320265</title>\n",
       "<path fill=\"none\" stroke=\"black\" d=\"M384.43,-396.48C428.53,-406.38 483.85,-418.79 529.64,-429.06\"/>\n",
       "<polygon fill=\"black\" stroke=\"black\" points=\"528.76,-432.45 539.28,-431.23 530.29,-425.62 528.76,-432.45\"/>\n",
       "</g>\n",
       "<!-- 5588486748594566732 -->\n",
       "<g id=\"node5\" class=\"node\">\n",
       "<title>5588486748594566732</title>\n",
       "<polygon fill=\"none\" stroke=\"black\" points=\"540.62,-324 72.38,-324 72.38,-288 540.62,-288 540.62,-324\"/>\n",
       "<text xml:space=\"preserve\" text-anchor=\"middle\" x=\"306.5\" y=\"-298.62\" font-family=\"Helvetica,sans-Serif\" font-size=\"20.00\">Assign(ArrowStringConversion, playcount, AsType)</text>\n",
       "</g>\n",
       "<!-- 5588486748594566732&#45;&gt;4751800899258354186 -->\n",
       "<g id=\"edge6\" class=\"edge\">\n",
       "<title>5588486748594566732&#45;&gt;4751800899258354186</title>\n",
       "<path fill=\"none\" stroke=\"black\" d=\"M306.5,-324.3C306.5,-331.59 306.5,-340.27 306.5,-348.46\"/>\n",
       "<polygon fill=\"black\" stroke=\"black\" points=\"303,-348.38 306.5,-358.38 310,-348.38 303,-348.38\"/>\n",
       "</g>\n",
       "<!-- 526481275554537271 -->\n",
       "<g id=\"node6\" class=\"node\">\n",
       "<title>526481275554537271</title>\n",
       "<polygon fill=\"none\" stroke=\"black\" points=\"519.25,-252 333.75,-252 333.75,-216 519.25,-216 519.25,-252\"/>\n",
       "<text xml:space=\"preserve\" text-anchor=\"middle\" x=\"426.5\" y=\"-226.62\" font-family=\"Helvetica,sans-Serif\" font-size=\"20.00\">AsType(Projection)</text>\n",
       "</g>\n",
       "<!-- 526481275554537271&#45;&gt;5588486748594566732 -->\n",
       "<g id=\"edge8\" class=\"edge\">\n",
       "<title>526481275554537271&#45;&gt;5588486748594566732</title>\n",
       "<path fill=\"none\" stroke=\"black\" d=\"M396.53,-252.48C381.24,-261.4 362.44,-272.37 345.98,-281.97\"/>\n",
       "<polygon fill=\"black\" stroke=\"black\" points=\"344.27,-278.91 337.4,-286.98 347.8,-284.96 344.27,-278.91\"/>\n",
       "</g>\n",
       "<!-- 2051262267761113266 -->\n",
       "<g id=\"node7\" class=\"node\">\n",
       "<title>2051262267761113266</title>\n",
       "<polygon fill=\"none\" stroke=\"black\" points=\"696,-180 275,-180 275,-144 696,-144 696,-180\"/>\n",
       "<text xml:space=\"preserve\" text-anchor=\"middle\" x=\"485.5\" y=\"-154.62\" font-family=\"Helvetica,sans-Serif\" font-size=\"20.00\">Projection(ArrowStringConversion, playcount)</text>\n",
       "</g>\n",
       "<!-- 2051262267761113266&#45;&gt;526481275554537271 -->\n",
       "<g id=\"edge9\" class=\"edge\">\n",
       "<title>2051262267761113266&#45;&gt;526481275554537271</title>\n",
       "<path fill=\"none\" stroke=\"black\" d=\"M470.92,-180.3C464.06,-188.44 455.74,-198.31 448.16,-207.3\"/>\n",
       "<polygon fill=\"black\" stroke=\"black\" points=\"445.66,-204.84 441.89,-214.74 451.01,-209.35 445.66,-204.84\"/>\n",
       "</g>\n",
       "<!-- &#45;5184740427104928703 -->\n",
       "<g id=\"node8\" class=\"node\">\n",
       "<title>&#45;5184740427104928703</title>\n",
       "<polygon fill=\"none\" stroke=\"black\" points=\"576.38,-108 154.62,-108 154.62,-72 576.38,-72 576.38,-108\"/>\n",
       "<text xml:space=\"preserve\" text-anchor=\"middle\" x=\"365.5\" y=\"-82.62\" font-family=\"Helvetica,sans-Serif\" font-size=\"20.00\">ArrowStringConversion(FromMapProjectable)</text>\n",
       "</g>\n",
       "<!-- &#45;5184740427104928703&#45;&gt;5588486748594566732 -->\n",
       "<g id=\"edge7\" class=\"edge\">\n",
       "<title>&#45;5184740427104928703&#45;&gt;5588486748594566732</title>\n",
       "<path fill=\"none\" stroke=\"black\" d=\"M308.28,-108.42C291.55,-116.46 275.18,-127.92 265.5,-144 239.89,-186.55 267.28,-244.7 287.96,-278.21\"/>\n",
       "<polygon fill=\"black\" stroke=\"black\" points=\"284.93,-279.98 293.28,-286.5 290.82,-276.2 284.93,-279.98\"/>\n",
       "</g>\n",
       "<!-- &#45;5184740427104928703&#45;&gt;2051262267761113266 -->\n",
       "<g id=\"edge10\" class=\"edge\">\n",
       "<title>&#45;5184740427104928703&#45;&gt;2051262267761113266</title>\n",
       "<path fill=\"none\" stroke=\"black\" d=\"M395.47,-108.48C410.76,-117.4 429.56,-128.37 446.02,-137.97\"/>\n",
       "<polygon fill=\"black\" stroke=\"black\" points=\"444.2,-140.96 454.6,-142.98 447.73,-134.91 444.2,-140.96\"/>\n",
       "</g>\n",
       "<!-- &#45;8329727678321614025 -->\n",
       "<g id=\"node9\" class=\"node\">\n",
       "<title>&#45;8329727678321614025</title>\n",
       "<polygon fill=\"none\" stroke=\"black\" points=\"466.5,-36 264.5,-36 264.5,0 466.5,0 466.5,-36\"/>\n",
       "<text xml:space=\"preserve\" text-anchor=\"middle\" x=\"365.5\" y=\"-10.62\" font-family=\"Helvetica,sans-Serif\" font-size=\"20.00\">FromMapProjectable</text>\n",
       "</g>\n",
       "<!-- &#45;8329727678321614025&#45;&gt;&#45;5184740427104928703 -->\n",
       "<g id=\"edge11\" class=\"edge\">\n",
       "<title>&#45;8329727678321614025&#45;&gt;&#45;5184740427104928703</title>\n",
       "<path fill=\"none\" stroke=\"black\" d=\"M365.5,-36.3C365.5,-43.59 365.5,-52.27 365.5,-60.46\"/>\n",
       "<polygon fill=\"black\" stroke=\"black\" points=\"362,-60.38 365.5,-70.38 369,-60.38 362,-60.38\"/>\n",
       "</g>\n",
       "<!-- 7374604658281758999 -->\n",
       "<g id=\"node10\" class=\"node\">\n",
       "<title>7374604658281758999</title>\n",
       "<polygon fill=\"none\" stroke=\"black\" points=\"705.25,-540 471.75,-540 471.75,-504 705.25,-504 705.25,-540\"/>\n",
       "<text xml:space=\"preserve\" text-anchor=\"middle\" x=\"588.5\" y=\"-514.62\" font-family=\"Helvetica,sans-Serif\" font-size=\"20.00\">PropertyMap(Projection)</text>\n",
       "</g>\n",
       "<!-- 7374604658281758999&#45;&gt;&#45;743875936974374627 -->\n",
       "<g id=\"edge3\" class=\"edge\">\n",
       "<title>7374604658281758999&#45;&gt;&#45;743875936974374627</title>\n",
       "<path fill=\"none\" stroke=\"black\" d=\"M518.07,-540.48C478.47,-550.31 428.86,-562.63 387.64,-572.86\"/>\n",
       "<polygon fill=\"black\" stroke=\"black\" points=\"386.85,-569.45 377.99,-575.25 388.54,-576.24 386.85,-569.45\"/>\n",
       "</g>\n",
       "<!-- &#45;7202486121572320265&#45;&gt;7374604658281758999 -->\n",
       "<g id=\"edge12\" class=\"edge\">\n",
       "<title>&#45;7202486121572320265&#45;&gt;7374604658281758999</title>\n",
       "<path fill=\"none\" stroke=\"black\" d=\"M611.08,-468.3C607.85,-475.85 603.98,-484.88 600.36,-493.32\"/>\n",
       "<polygon fill=\"black\" stroke=\"black\" points=\"597.15,-491.93 596.43,-502.5 603.58,-494.69 597.15,-491.93\"/>\n",
       "</g>\n",
       "</g>\n",
       "</svg>\n"
      ],
      "text/plain": [
       "<graphviz.graphs.Digraph at 0x22d34891150>"
      ]
     },
     "execution_count": 38,
     "metadata": {},
     "output_type": "execute_result"
    }
   ],
   "source": [
    "df.visualize()"
   ]
  },
  {
   "cell_type": "code",
   "execution_count": 46,
   "id": "1617c4f6",
   "metadata": {},
   "outputs": [
    {
     "name": "stdout",
     "output_type": "stream",
     "text": [
      "<class 'pandas.core.frame.DataFrame'>\n",
      "Index: 9711301 entries, 0 to 1079041\n",
      "Data columns (total 5 columns):\n",
      " #   Column     Dtype   \n",
      "---  ------     -----   \n",
      " 0   track_id   category\n",
      " 1   user_id    category\n",
      " 2   playcount  float64 \n",
      " 3   user_idx   int32   \n",
      " 4   track_idx  int16   \n",
      "dtypes: category(2), float64(1), int16(1), int32(1)\n",
      "memory usage: 337.5 MB\n"
     ]
    }
   ],
   "source": [
    "df.compute().info()"
   ]
  },
  {
   "cell_type": "code",
   "execution_count": 39,
   "id": "a97b39f9",
   "metadata": {},
   "outputs": [
    {
     "data": {
      "text/html": [
       "<div>\n",
       "<style scoped>\n",
       "    .dataframe tbody tr th:only-of-type {\n",
       "        vertical-align: middle;\n",
       "    }\n",
       "\n",
       "    .dataframe tbody tr th {\n",
       "        vertical-align: top;\n",
       "    }\n",
       "\n",
       "    .dataframe thead th {\n",
       "        text-align: right;\n",
       "    }\n",
       "</style>\n",
       "<table border=\"1\" class=\"dataframe\">\n",
       "  <thead>\n",
       "    <tr style=\"text-align: right;\">\n",
       "      <th></th>\n",
       "      <th>track_id</th>\n",
       "      <th>user_id</th>\n",
       "      <th>playcount</th>\n",
       "      <th>user_idx</th>\n",
       "      <th>track_idx</th>\n",
       "    </tr>\n",
       "  </thead>\n",
       "  <tbody>\n",
       "    <tr>\n",
       "      <th>0</th>\n",
       "      <td>TRIRLYL128F42539D1</td>\n",
       "      <td>b80344d063b5ccb3212f76538f3d9e43d87dca9e</td>\n",
       "      <td>1.0</td>\n",
       "      <td>691377</td>\n",
       "      <td>10705</td>\n",
       "    </tr>\n",
       "    <tr>\n",
       "      <th>1</th>\n",
       "      <td>TRFUPBA128F934F7E1</td>\n",
       "      <td>b80344d063b5ccb3212f76538f3d9e43d87dca9e</td>\n",
       "      <td>1.0</td>\n",
       "      <td>691377</td>\n",
       "      <td>7334</td>\n",
       "    </tr>\n",
       "    <tr>\n",
       "      <th>2</th>\n",
       "      <td>TRLQPQJ128F42AA94F</td>\n",
       "      <td>b80344d063b5ccb3212f76538f3d9e43d87dca9e</td>\n",
       "      <td>1.0</td>\n",
       "      <td>691377</td>\n",
       "      <td>14212</td>\n",
       "    </tr>\n",
       "    <tr>\n",
       "      <th>3</th>\n",
       "      <td>TRTUCUY128F92E1D24</td>\n",
       "      <td>b80344d063b5ccb3212f76538f3d9e43d87dca9e</td>\n",
       "      <td>1.0</td>\n",
       "      <td>691377</td>\n",
       "      <td>23206</td>\n",
       "    </tr>\n",
       "    <tr>\n",
       "      <th>4</th>\n",
       "      <td>TRHDDQG12903CB53EE</td>\n",
       "      <td>b80344d063b5ccb3212f76538f3d9e43d87dca9e</td>\n",
       "      <td>1.0</td>\n",
       "      <td>691377</td>\n",
       "      <td>8936</td>\n",
       "    </tr>\n",
       "    <tr>\n",
       "      <th>...</th>\n",
       "      <td>...</td>\n",
       "      <td>...</td>\n",
       "      <td>...</td>\n",
       "      <td>...</td>\n",
       "      <td>...</td>\n",
       "    </tr>\n",
       "    <tr>\n",
       "      <th>1079037</th>\n",
       "      <td>TRBKFKL128E078ED76</td>\n",
       "      <td>b7815dbb206eb2831ce0fe040d0aa537e2e800f7</td>\n",
       "      <td>1.0</td>\n",
       "      <td>689479</td>\n",
       "      <td>1932</td>\n",
       "    </tr>\n",
       "    <tr>\n",
       "      <th>1079038</th>\n",
       "      <td>TRYFXPG128E078ECBD</td>\n",
       "      <td>b7815dbb206eb2831ce0fe040d0aa537e2e800f7</td>\n",
       "      <td>1.0</td>\n",
       "      <td>689479</td>\n",
       "      <td>28694</td>\n",
       "    </tr>\n",
       "    <tr>\n",
       "      <th>1079039</th>\n",
       "      <td>TROBUUZ128F4263002</td>\n",
       "      <td>b7815dbb206eb2831ce0fe040d0aa537e2e800f7</td>\n",
       "      <td>1.0</td>\n",
       "      <td>689479</td>\n",
       "      <td>16702</td>\n",
       "    </tr>\n",
       "    <tr>\n",
       "      <th>1079040</th>\n",
       "      <td>TROEWXC128F148C83E</td>\n",
       "      <td>b7815dbb206eb2831ce0fe040d0aa537e2e800f7</td>\n",
       "      <td>1.0</td>\n",
       "      <td>689479</td>\n",
       "      <td>16795</td>\n",
       "    </tr>\n",
       "    <tr>\n",
       "      <th>1079041</th>\n",
       "      <td>TROHQNO128F146ECCB</td>\n",
       "      <td>b7815dbb206eb2831ce0fe040d0aa537e2e800f7</td>\n",
       "      <td>1.0</td>\n",
       "      <td>689479</td>\n",
       "      <td>16936</td>\n",
       "    </tr>\n",
       "  </tbody>\n",
       "</table>\n",
       "<p>9711301 rows × 5 columns</p>\n",
       "</div>"
      ],
      "text/plain": [
       "                   track_id                                   user_id  \\\n",
       "0        TRIRLYL128F42539D1  b80344d063b5ccb3212f76538f3d9e43d87dca9e   \n",
       "1        TRFUPBA128F934F7E1  b80344d063b5ccb3212f76538f3d9e43d87dca9e   \n",
       "2        TRLQPQJ128F42AA94F  b80344d063b5ccb3212f76538f3d9e43d87dca9e   \n",
       "3        TRTUCUY128F92E1D24  b80344d063b5ccb3212f76538f3d9e43d87dca9e   \n",
       "4        TRHDDQG12903CB53EE  b80344d063b5ccb3212f76538f3d9e43d87dca9e   \n",
       "...                     ...                                       ...   \n",
       "1079037  TRBKFKL128E078ED76  b7815dbb206eb2831ce0fe040d0aa537e2e800f7   \n",
       "1079038  TRYFXPG128E078ECBD  b7815dbb206eb2831ce0fe040d0aa537e2e800f7   \n",
       "1079039  TROBUUZ128F4263002  b7815dbb206eb2831ce0fe040d0aa537e2e800f7   \n",
       "1079040  TROEWXC128F148C83E  b7815dbb206eb2831ce0fe040d0aa537e2e800f7   \n",
       "1079041  TROHQNO128F146ECCB  b7815dbb206eb2831ce0fe040d0aa537e2e800f7   \n",
       "\n",
       "         playcount  user_idx  track_idx  \n",
       "0              1.0    691377      10705  \n",
       "1              1.0    691377       7334  \n",
       "2              1.0    691377      14212  \n",
       "3              1.0    691377      23206  \n",
       "4              1.0    691377       8936  \n",
       "...            ...       ...        ...  \n",
       "1079037        1.0    689479       1932  \n",
       "1079038        1.0    689479      28694  \n",
       "1079039        1.0    689479      16702  \n",
       "1079040        1.0    689479      16795  \n",
       "1079041        1.0    689479      16936  \n",
       "\n",
       "[9711301 rows x 5 columns]"
      ]
     },
     "execution_count": 39,
     "metadata": {},
     "output_type": "execute_result"
    }
   ],
   "source": [
    "df.compute()"
   ]
  },
  {
   "cell_type": "code",
   "execution_count": 41,
   "id": "0dc7df60",
   "metadata": {},
   "outputs": [],
   "source": [
    "# create interaction matrix"
   ]
  },
  {
   "cell_type": "code",
   "execution_count": 47,
   "id": "bd7c7d61",
   "metadata": {},
   "outputs": [],
   "source": [
    "interaction_array = df.groupby(['track_idx', 'user_idx'])['playcount'].sum().reset_index()"
   ]
  },
  {
   "cell_type": "code",
   "execution_count": 49,
   "id": "f5f7ad74",
   "metadata": {},
   "outputs": [
    {
     "data": {
      "image/svg+xml": [
       "<?xml version=\"1.0\" encoding=\"UTF-8\" standalone=\"no\"?>\n",
       "<!DOCTYPE svg PUBLIC \"-//W3C//DTD SVG 1.1//EN\"\n",
       " \"http://www.w3.org/Graphics/SVG/1.1/DTD/svg11.dtd\">\n",
       "<!-- Generated by graphviz version 13.1.0 (20250701.0955)\n",
       " -->\n",
       "<!-- Pages: 1 -->\n",
       "<svg width=\"773pt\" height=\"836pt\"\n",
       " viewBox=\"0.00 0.00 773.00 836.00\" xmlns=\"http://www.w3.org/2000/svg\" xmlns:xlink=\"http://www.w3.org/1999/xlink\">\n",
       "<g id=\"graph0\" class=\"graph\" transform=\"scale(1 1) rotate(0) translate(4 832)\">\n",
       "<polygon fill=\"white\" stroke=\"none\" points=\"-4,4 -4,-832 768.5,-832 768.5,4 -4,4\"/>\n",
       "<!-- &#45;5838734159784275966 -->\n",
       "<g id=\"node1\" class=\"node\">\n",
       "<title>&#45;5838734159784275966</title>\n",
       "<polygon fill=\"none\" stroke=\"black\" points=\"392.12,-828 220.88,-828 220.88,-792 392.12,-792 392.12,-828\"/>\n",
       "<text xml:space=\"preserve\" text-anchor=\"middle\" x=\"306.5\" y=\"-802.62\" font-family=\"Helvetica,sans-Serif\" font-size=\"20.00\">ResetIndex(Sum)</text>\n",
       "</g>\n",
       "<!-- 7260377395383812208 -->\n",
       "<g id=\"node2\" class=\"node\">\n",
       "<title>7260377395383812208</title>\n",
       "<polygon fill=\"none\" stroke=\"black\" points=\"386.5,-756 226.5,-756 226.5,-720 386.5,-720 386.5,-756\"/>\n",
       "<text xml:space=\"preserve\" text-anchor=\"middle\" x=\"306.5\" y=\"-730.62\" font-family=\"Helvetica,sans-Serif\" font-size=\"20.00\">Sum(Projection)</text>\n",
       "</g>\n",
       "<!-- 7260377395383812208&#45;&gt;&#45;5838734159784275966 -->\n",
       "<g id=\"edge1\" class=\"edge\">\n",
       "<title>7260377395383812208&#45;&gt;&#45;5838734159784275966</title>\n",
       "<path fill=\"none\" stroke=\"black\" d=\"M306.5,-756.3C306.5,-763.59 306.5,-772.27 306.5,-780.46\"/>\n",
       "<polygon fill=\"black\" stroke=\"black\" points=\"303,-780.38 306.5,-790.38 310,-780.38 303,-780.38\"/>\n",
       "</g>\n",
       "<!-- 1395650621146186300 -->\n",
       "<g id=\"node3\" class=\"node\">\n",
       "<title>1395650621146186300</title>\n",
       "<polygon fill=\"none\" stroke=\"black\" points=\"548.5,-684 64.5,-684 64.5,-648 548.5,-648 548.5,-684\"/>\n",
       "<text xml:space=\"preserve\" text-anchor=\"middle\" x=\"306.5\" y=\"-658.62\" font-family=\"Helvetica,sans-Serif\" font-size=\"20.00\">Projection(Assign, [&#39;playcount&#39;, &#39;user_idx&#39;, &#39;track_idx&#39;])</text>\n",
       "</g>\n",
       "<!-- 1395650621146186300&#45;&gt;7260377395383812208 -->\n",
       "<g id=\"edge2\" class=\"edge\">\n",
       "<title>1395650621146186300&#45;&gt;7260377395383812208</title>\n",
       "<path fill=\"none\" stroke=\"black\" d=\"M306.5,-684.3C306.5,-691.59 306.5,-700.27 306.5,-708.46\"/>\n",
       "<polygon fill=\"black\" stroke=\"black\" points=\"303,-708.38 306.5,-718.38 310,-708.38 303,-708.38\"/>\n",
       "</g>\n",
       "<!-- &#45;743875936974374627 -->\n",
       "<g id=\"node4\" class=\"node\">\n",
       "<title>&#45;743875936974374627</title>\n",
       "<polygon fill=\"none\" stroke=\"black\" points=\"613,-612 0,-612 0,-576 613,-576 613,-612\"/>\n",
       "<text xml:space=\"preserve\" text-anchor=\"middle\" x=\"306.5\" y=\"-586.62\" font-family=\"Helvetica,sans-Serif\" font-size=\"20.00\">Assign(Categorize, user_idx, PropertyMap, track_idx, PropertyMap)</text>\n",
       "</g>\n",
       "<!-- &#45;743875936974374627&#45;&gt;1395650621146186300 -->\n",
       "<g id=\"edge3\" class=\"edge\">\n",
       "<title>&#45;743875936974374627&#45;&gt;1395650621146186300</title>\n",
       "<path fill=\"none\" stroke=\"black\" d=\"M306.5,-612.3C306.5,-619.59 306.5,-628.27 306.5,-636.46\"/>\n",
       "<polygon fill=\"black\" stroke=\"black\" points=\"303,-636.38 306.5,-646.38 310,-636.38 303,-636.38\"/>\n",
       "</g>\n",
       "<!-- 4404785584976077747 -->\n",
       "<g id=\"node5\" class=\"node\">\n",
       "<title>4404785584976077747</title>\n",
       "<polygon fill=\"none\" stroke=\"black\" points=\"423.25,-540 189.75,-540 189.75,-504 423.25,-504 423.25,-540\"/>\n",
       "<text xml:space=\"preserve\" text-anchor=\"middle\" x=\"306.5\" y=\"-514.62\" font-family=\"Helvetica,sans-Serif\" font-size=\"20.00\">PropertyMap(Projection)</text>\n",
       "</g>\n",
       "<!-- 4404785584976077747&#45;&gt;&#45;743875936974374627 -->\n",
       "<g id=\"edge5\" class=\"edge\">\n",
       "<title>4404785584976077747&#45;&gt;&#45;743875936974374627</title>\n",
       "<path fill=\"none\" stroke=\"black\" d=\"M306.5,-540.3C306.5,-547.59 306.5,-556.27 306.5,-564.46\"/>\n",
       "<polygon fill=\"black\" stroke=\"black\" points=\"303,-564.38 306.5,-574.38 310,-564.38 303,-564.38\"/>\n",
       "</g>\n",
       "<!-- 2002653325213907490 -->\n",
       "<g id=\"node6\" class=\"node\">\n",
       "<title>2002653325213907490</title>\n",
       "<polygon fill=\"none\" stroke=\"black\" points=\"454.38,-468 158.62,-468 158.62,-432 454.38,-432 454.38,-468\"/>\n",
       "<text xml:space=\"preserve\" text-anchor=\"middle\" x=\"306.5\" y=\"-442.62\" font-family=\"Helvetica,sans-Serif\" font-size=\"20.00\">Projection(Categorize, track_id)</text>\n",
       "</g>\n",
       "<!-- 2002653325213907490&#45;&gt;4404785584976077747 -->\n",
       "<g id=\"edge7\" class=\"edge\">\n",
       "<title>2002653325213907490&#45;&gt;4404785584976077747</title>\n",
       "<path fill=\"none\" stroke=\"black\" d=\"M306.5,-468.3C306.5,-475.59 306.5,-484.27 306.5,-492.46\"/>\n",
       "<polygon fill=\"black\" stroke=\"black\" points=\"303,-492.38 306.5,-502.38 310,-492.38 303,-492.38\"/>\n",
       "</g>\n",
       "<!-- 4751800899258354186 -->\n",
       "<g id=\"node7\" class=\"node\">\n",
       "<title>4751800899258354186</title>\n",
       "<polygon fill=\"none\" stroke=\"black\" points=\"399.62,-396 213.38,-396 213.38,-360 399.62,-360 399.62,-396\"/>\n",
       "<text xml:space=\"preserve\" text-anchor=\"middle\" x=\"306.5\" y=\"-370.62\" font-family=\"Helvetica,sans-Serif\" font-size=\"20.00\">Categorize(Assign)</text>\n",
       "</g>\n",
       "<!-- 4751800899258354186&#45;&gt;&#45;743875936974374627 -->\n",
       "<g id=\"edge4\" class=\"edge\">\n",
       "<title>4751800899258354186&#45;&gt;&#45;743875936974374627</title>\n",
       "<path fill=\"none\" stroke=\"black\" d=\"M213.12,-390.42C188.49,-398.17 164.6,-410.97 149.5,-432 126.98,-463.37 179.12,-538.63 180.5,-540 194.02,-553.41 211.45,-563.62 229,-571.32\"/>\n",
       "<polygon fill=\"black\" stroke=\"black\" points=\"227.35,-574.42 237.92,-574.99 230.01,-567.95 227.35,-574.42\"/>\n",
       "</g>\n",
       "<!-- 4751800899258354186&#45;&gt;2002653325213907490 -->\n",
       "<g id=\"edge8\" class=\"edge\">\n",
       "<title>4751800899258354186&#45;&gt;2002653325213907490</title>\n",
       "<path fill=\"none\" stroke=\"black\" d=\"M306.5,-396.3C306.5,-403.59 306.5,-412.27 306.5,-420.46\"/>\n",
       "<polygon fill=\"black\" stroke=\"black\" points=\"303,-420.38 306.5,-430.38 310,-420.38 303,-420.38\"/>\n",
       "</g>\n",
       "<!-- &#45;7202486121572320265 -->\n",
       "<g id=\"node14\" class=\"node\">\n",
       "<title>&#45;7202486121572320265</title>\n",
       "<polygon fill=\"none\" stroke=\"black\" points=\"764.5,-468 472.5,-468 472.5,-432 764.5,-432 764.5,-468\"/>\n",
       "<text xml:space=\"preserve\" text-anchor=\"middle\" x=\"618.5\" y=\"-442.62\" font-family=\"Helvetica,sans-Serif\" font-size=\"20.00\">Projection(Categorize, user_id)</text>\n",
       "</g>\n",
       "<!-- 4751800899258354186&#45;&gt;&#45;7202486121572320265 -->\n",
       "<g id=\"edge16\" class=\"edge\">\n",
       "<title>4751800899258354186&#45;&gt;&#45;7202486121572320265</title>\n",
       "<path fill=\"none\" stroke=\"black\" d=\"M384.43,-396.48C428.53,-406.38 483.85,-418.79 529.64,-429.06\"/>\n",
       "<polygon fill=\"black\" stroke=\"black\" points=\"528.76,-432.45 539.28,-431.23 530.29,-425.62 528.76,-432.45\"/>\n",
       "</g>\n",
       "<!-- 5588486748594566732 -->\n",
       "<g id=\"node8\" class=\"node\">\n",
       "<title>5588486748594566732</title>\n",
       "<polygon fill=\"none\" stroke=\"black\" points=\"540.62,-324 72.38,-324 72.38,-288 540.62,-288 540.62,-324\"/>\n",
       "<text xml:space=\"preserve\" text-anchor=\"middle\" x=\"306.5\" y=\"-298.62\" font-family=\"Helvetica,sans-Serif\" font-size=\"20.00\">Assign(ArrowStringConversion, playcount, AsType)</text>\n",
       "</g>\n",
       "<!-- 5588486748594566732&#45;&gt;4751800899258354186 -->\n",
       "<g id=\"edge9\" class=\"edge\">\n",
       "<title>5588486748594566732&#45;&gt;4751800899258354186</title>\n",
       "<path fill=\"none\" stroke=\"black\" d=\"M306.5,-324.3C306.5,-331.59 306.5,-340.27 306.5,-348.46\"/>\n",
       "<polygon fill=\"black\" stroke=\"black\" points=\"303,-348.38 306.5,-358.38 310,-348.38 303,-348.38\"/>\n",
       "</g>\n",
       "<!-- 526481275554537271 -->\n",
       "<g id=\"node9\" class=\"node\">\n",
       "<title>526481275554537271</title>\n",
       "<polygon fill=\"none\" stroke=\"black\" points=\"519.25,-252 333.75,-252 333.75,-216 519.25,-216 519.25,-252\"/>\n",
       "<text xml:space=\"preserve\" text-anchor=\"middle\" x=\"426.5\" y=\"-226.62\" font-family=\"Helvetica,sans-Serif\" font-size=\"20.00\">AsType(Projection)</text>\n",
       "</g>\n",
       "<!-- 526481275554537271&#45;&gt;5588486748594566732 -->\n",
       "<g id=\"edge11\" class=\"edge\">\n",
       "<title>526481275554537271&#45;&gt;5588486748594566732</title>\n",
       "<path fill=\"none\" stroke=\"black\" d=\"M396.53,-252.48C381.24,-261.4 362.44,-272.37 345.98,-281.97\"/>\n",
       "<polygon fill=\"black\" stroke=\"black\" points=\"344.27,-278.91 337.4,-286.98 347.8,-284.96 344.27,-278.91\"/>\n",
       "</g>\n",
       "<!-- 2051262267761113266 -->\n",
       "<g id=\"node10\" class=\"node\">\n",
       "<title>2051262267761113266</title>\n",
       "<polygon fill=\"none\" stroke=\"black\" points=\"696,-180 275,-180 275,-144 696,-144 696,-180\"/>\n",
       "<text xml:space=\"preserve\" text-anchor=\"middle\" x=\"485.5\" y=\"-154.62\" font-family=\"Helvetica,sans-Serif\" font-size=\"20.00\">Projection(ArrowStringConversion, playcount)</text>\n",
       "</g>\n",
       "<!-- 2051262267761113266&#45;&gt;526481275554537271 -->\n",
       "<g id=\"edge12\" class=\"edge\">\n",
       "<title>2051262267761113266&#45;&gt;526481275554537271</title>\n",
       "<path fill=\"none\" stroke=\"black\" d=\"M470.92,-180.3C464.06,-188.44 455.74,-198.31 448.16,-207.3\"/>\n",
       "<polygon fill=\"black\" stroke=\"black\" points=\"445.66,-204.84 441.89,-214.74 451.01,-209.35 445.66,-204.84\"/>\n",
       "</g>\n",
       "<!-- &#45;5184740427104928703 -->\n",
       "<g id=\"node11\" class=\"node\">\n",
       "<title>&#45;5184740427104928703</title>\n",
       "<polygon fill=\"none\" stroke=\"black\" points=\"576.38,-108 154.62,-108 154.62,-72 576.38,-72 576.38,-108\"/>\n",
       "<text xml:space=\"preserve\" text-anchor=\"middle\" x=\"365.5\" y=\"-82.62\" font-family=\"Helvetica,sans-Serif\" font-size=\"20.00\">ArrowStringConversion(FromMapProjectable)</text>\n",
       "</g>\n",
       "<!-- &#45;5184740427104928703&#45;&gt;5588486748594566732 -->\n",
       "<g id=\"edge10\" class=\"edge\">\n",
       "<title>&#45;5184740427104928703&#45;&gt;5588486748594566732</title>\n",
       "<path fill=\"none\" stroke=\"black\" d=\"M308.28,-108.42C291.55,-116.46 275.18,-127.92 265.5,-144 239.89,-186.55 267.28,-244.7 287.96,-278.21\"/>\n",
       "<polygon fill=\"black\" stroke=\"black\" points=\"284.93,-279.98 293.28,-286.5 290.82,-276.2 284.93,-279.98\"/>\n",
       "</g>\n",
       "<!-- &#45;5184740427104928703&#45;&gt;2051262267761113266 -->\n",
       "<g id=\"edge13\" class=\"edge\">\n",
       "<title>&#45;5184740427104928703&#45;&gt;2051262267761113266</title>\n",
       "<path fill=\"none\" stroke=\"black\" d=\"M395.47,-108.48C410.76,-117.4 429.56,-128.37 446.02,-137.97\"/>\n",
       "<polygon fill=\"black\" stroke=\"black\" points=\"444.2,-140.96 454.6,-142.98 447.73,-134.91 444.2,-140.96\"/>\n",
       "</g>\n",
       "<!-- &#45;8329727678321614025 -->\n",
       "<g id=\"node12\" class=\"node\">\n",
       "<title>&#45;8329727678321614025</title>\n",
       "<polygon fill=\"none\" stroke=\"black\" points=\"466.5,-36 264.5,-36 264.5,0 466.5,0 466.5,-36\"/>\n",
       "<text xml:space=\"preserve\" text-anchor=\"middle\" x=\"365.5\" y=\"-10.62\" font-family=\"Helvetica,sans-Serif\" font-size=\"20.00\">FromMapProjectable</text>\n",
       "</g>\n",
       "<!-- &#45;8329727678321614025&#45;&gt;&#45;5184740427104928703 -->\n",
       "<g id=\"edge14\" class=\"edge\">\n",
       "<title>&#45;8329727678321614025&#45;&gt;&#45;5184740427104928703</title>\n",
       "<path fill=\"none\" stroke=\"black\" d=\"M365.5,-36.3C365.5,-43.59 365.5,-52.27 365.5,-60.46\"/>\n",
       "<polygon fill=\"black\" stroke=\"black\" points=\"362,-60.38 365.5,-70.38 369,-60.38 362,-60.38\"/>\n",
       "</g>\n",
       "<!-- 7374604658281758999 -->\n",
       "<g id=\"node13\" class=\"node\">\n",
       "<title>7374604658281758999</title>\n",
       "<polygon fill=\"none\" stroke=\"black\" points=\"705.25,-540 471.75,-540 471.75,-504 705.25,-504 705.25,-540\"/>\n",
       "<text xml:space=\"preserve\" text-anchor=\"middle\" x=\"588.5\" y=\"-514.62\" font-family=\"Helvetica,sans-Serif\" font-size=\"20.00\">PropertyMap(Projection)</text>\n",
       "</g>\n",
       "<!-- 7374604658281758999&#45;&gt;&#45;743875936974374627 -->\n",
       "<g id=\"edge6\" class=\"edge\">\n",
       "<title>7374604658281758999&#45;&gt;&#45;743875936974374627</title>\n",
       "<path fill=\"none\" stroke=\"black\" d=\"M518.07,-540.48C478.47,-550.31 428.86,-562.63 387.64,-572.86\"/>\n",
       "<polygon fill=\"black\" stroke=\"black\" points=\"386.85,-569.45 377.99,-575.25 388.54,-576.24 386.85,-569.45\"/>\n",
       "</g>\n",
       "<!-- &#45;7202486121572320265&#45;&gt;7374604658281758999 -->\n",
       "<g id=\"edge15\" class=\"edge\">\n",
       "<title>&#45;7202486121572320265&#45;&gt;7374604658281758999</title>\n",
       "<path fill=\"none\" stroke=\"black\" d=\"M611.08,-468.3C607.85,-475.85 603.98,-484.88 600.36,-493.32\"/>\n",
       "<polygon fill=\"black\" stroke=\"black\" points=\"597.15,-491.93 596.43,-502.5 603.58,-494.69 597.15,-491.93\"/>\n",
       "</g>\n",
       "</g>\n",
       "</svg>\n"
      ],
      "text/plain": [
       "<graphviz.graphs.Digraph at 0x22cef7b3ed0>"
      ]
     },
     "execution_count": 49,
     "metadata": {},
     "output_type": "execute_result"
    }
   ],
   "source": [
    "interaction_array.visualize()"
   ]
  },
  {
   "cell_type": "code",
   "execution_count": 50,
   "id": "a54c9ee9",
   "metadata": {},
   "outputs": [],
   "source": [
    "interaction_array = interaction_array.compute()"
   ]
  },
  {
   "cell_type": "code",
   "execution_count": 51,
   "id": "87834fd9",
   "metadata": {},
   "outputs": [
    {
     "data": {
      "text/html": [
       "<div>\n",
       "<style scoped>\n",
       "    .dataframe tbody tr th:only-of-type {\n",
       "        vertical-align: middle;\n",
       "    }\n",
       "\n",
       "    .dataframe tbody tr th {\n",
       "        vertical-align: top;\n",
       "    }\n",
       "\n",
       "    .dataframe thead th {\n",
       "        text-align: right;\n",
       "    }\n",
       "</style>\n",
       "<table border=\"1\" class=\"dataframe\">\n",
       "  <thead>\n",
       "    <tr style=\"text-align: right;\">\n",
       "      <th></th>\n",
       "      <th>track_idx</th>\n",
       "      <th>user_idx</th>\n",
       "      <th>playcount</th>\n",
       "    </tr>\n",
       "  </thead>\n",
       "  <tbody>\n",
       "    <tr>\n",
       "      <th>0</th>\n",
       "      <td>0</td>\n",
       "      <td>15780</td>\n",
       "      <td>3.0</td>\n",
       "    </tr>\n",
       "    <tr>\n",
       "      <th>1</th>\n",
       "      <td>0</td>\n",
       "      <td>76968</td>\n",
       "      <td>1.0</td>\n",
       "    </tr>\n",
       "    <tr>\n",
       "      <th>2</th>\n",
       "      <td>0</td>\n",
       "      <td>134525</td>\n",
       "      <td>2.0</td>\n",
       "    </tr>\n",
       "    <tr>\n",
       "      <th>3</th>\n",
       "      <td>0</td>\n",
       "      <td>231541</td>\n",
       "      <td>1.0</td>\n",
       "    </tr>\n",
       "    <tr>\n",
       "      <th>4</th>\n",
       "      <td>0</td>\n",
       "      <td>305348</td>\n",
       "      <td>1.0</td>\n",
       "    </tr>\n",
       "    <tr>\n",
       "      <th>...</th>\n",
       "      <td>...</td>\n",
       "      <td>...</td>\n",
       "      <td>...</td>\n",
       "    </tr>\n",
       "    <tr>\n",
       "      <th>9711296</th>\n",
       "      <td>30458</td>\n",
       "      <td>902360</td>\n",
       "      <td>1.0</td>\n",
       "    </tr>\n",
       "    <tr>\n",
       "      <th>9711297</th>\n",
       "      <td>30458</td>\n",
       "      <td>913310</td>\n",
       "      <td>1.0</td>\n",
       "    </tr>\n",
       "    <tr>\n",
       "      <th>9711298</th>\n",
       "      <td>30458</td>\n",
       "      <td>922319</td>\n",
       "      <td>1.0</td>\n",
       "    </tr>\n",
       "    <tr>\n",
       "      <th>9711299</th>\n",
       "      <td>30458</td>\n",
       "      <td>925779</td>\n",
       "      <td>1.0</td>\n",
       "    </tr>\n",
       "    <tr>\n",
       "      <th>9711300</th>\n",
       "      <td>30458</td>\n",
       "      <td>943722</td>\n",
       "      <td>1.0</td>\n",
       "    </tr>\n",
       "  </tbody>\n",
       "</table>\n",
       "<p>9711301 rows × 3 columns</p>\n",
       "</div>"
      ],
      "text/plain": [
       "         track_idx  user_idx  playcount\n",
       "0                0     15780        3.0\n",
       "1                0     76968        1.0\n",
       "2                0    134525        2.0\n",
       "3                0    231541        1.0\n",
       "4                0    305348        1.0\n",
       "...            ...       ...        ...\n",
       "9711296      30458    902360        1.0\n",
       "9711297      30458    913310        1.0\n",
       "9711298      30458    922319        1.0\n",
       "9711299      30458    925779        1.0\n",
       "9711300      30458    943722        1.0\n",
       "\n",
       "[9711301 rows x 3 columns]"
      ]
     },
     "execution_count": 51,
     "metadata": {},
     "output_type": "execute_result"
    }
   ],
   "source": [
    "interaction_array"
   ]
  },
  {
   "cell_type": "code",
   "execution_count": 52,
   "id": "0112ea85",
   "metadata": {},
   "outputs": [],
   "source": [
    "row_indices = interaction_array['track_idx']\n",
    "col_indices = interaction_array['user_idx']\n",
    "values = interaction_array['playcount']"
   ]
  },
  {
   "cell_type": "code",
   "execution_count": 59,
   "id": "77ea44da",
   "metadata": {},
   "outputs": [],
   "source": [
    "n_tracks = unique_tracks\n",
    "n_users = unique_users\n",
    "\n",
    "sparse_matrix = csr_matrix((values, (row_indices, col_indices)), shape=(n_tracks, n_users))"
   ]
  },
  {
   "cell_type": "code",
   "execution_count": 60,
   "id": "5afb0976",
   "metadata": {},
   "outputs": [
    {
     "data": {
      "text/plain": [
       "(30459, 962037)"
      ]
     },
     "execution_count": 60,
     "metadata": {},
     "output_type": "execute_result"
    }
   ],
   "source": [
    "sparse_matrix.shape"
   ]
  },
  {
   "cell_type": "code",
   "execution_count": 65,
   "id": "2e40ebef",
   "metadata": {},
   "outputs": [],
   "source": [
    "total_elements = sparse_matrix.shape[0]*sparse_matrix.shape[1]"
   ]
  },
  {
   "cell_type": "code",
   "execution_count": 61,
   "id": "125c715a",
   "metadata": {},
   "outputs": [
    {
     "data": {
      "text/plain": [
       "9711301"
      ]
     },
     "execution_count": 61,
     "metadata": {},
     "output_type": "execute_result"
    }
   ],
   "source": [
    "sparse_matrix.nnz  # non zero elements"
   ]
  },
  {
   "cell_type": "code",
   "execution_count": 66,
   "id": "6f1b7ea0",
   "metadata": {},
   "outputs": [],
   "source": [
    "non_zero_elements = sparse_matrix.nnz"
   ]
  },
  {
   "cell_type": "code",
   "execution_count": 67,
   "id": "2e20e008",
   "metadata": {},
   "outputs": [
    {
     "data": {
      "text/plain": [
       "0.033141335019756815"
      ]
     },
     "execution_count": 67,
     "metadata": {},
     "output_type": "execute_result"
    }
   ],
   "source": [
    "(non_zero_elements/total_elements)*100"
   ]
  },
  {
   "cell_type": "code",
   "execution_count": 62,
   "id": "6695e3e6",
   "metadata": {},
   "outputs": [
    {
     "data": {
      "text/plain": [
       "<30459x962037 sparse matrix of type '<class 'numpy.float64'>'\n",
       "\twith 9711301 stored elements in Compressed Sparse Row format>"
      ]
     },
     "execution_count": 62,
     "metadata": {},
     "output_type": "execute_result"
    }
   ],
   "source": [
    "sparse_matrix"
   ]
  },
  {
   "cell_type": "code",
   "execution_count": 63,
   "id": "49311047",
   "metadata": {},
   "outputs": [
    {
     "data": {
      "text/plain": [
       "0              0\n",
       "1              0\n",
       "2              0\n",
       "3              0\n",
       "4              0\n",
       "           ...  \n",
       "9711296    30458\n",
       "9711297    30458\n",
       "9711298    30458\n",
       "9711299    30458\n",
       "9711300    30458\n",
       "Name: track_idx, Length: 9711301, dtype: int16"
      ]
     },
     "execution_count": 63,
     "metadata": {},
     "output_type": "execute_result"
    }
   ],
   "source": [
    "row_indices"
   ]
  },
  {
   "cell_type": "code",
   "execution_count": 64,
   "id": "05e0b370",
   "metadata": {},
   "outputs": [
    {
     "data": {
      "text/plain": [
       "0           15780\n",
       "1           76968\n",
       "2          134525\n",
       "3          231541\n",
       "4          305348\n",
       "            ...  \n",
       "9711296    902360\n",
       "9711297    913310\n",
       "9711298    922319\n",
       "9711299    925779\n",
       "9711300    943722\n",
       "Name: user_idx, Length: 9711301, dtype: int32"
      ]
     },
     "execution_count": 64,
     "metadata": {},
     "output_type": "execute_result"
    }
   ],
   "source": [
    "col_indices"
   ]
  },
  {
   "cell_type": "code",
   "execution_count": 68,
   "id": "ac8790a6",
   "metadata": {},
   "outputs": [],
   "source": [
    "# cal sim score"
   ]
  },
  {
   "cell_type": "code",
   "execution_count": 69,
   "id": "4f28568c",
   "metadata": {},
   "outputs": [],
   "source": [
    "from sklearn.metrics.pairwise import cosine_similarity"
   ]
  },
  {
   "cell_type": "code",
   "execution_count": 70,
   "id": "26729d49",
   "metadata": {},
   "outputs": [],
   "source": [
    "ind = 17018"
   ]
  },
  {
   "cell_type": "code",
   "execution_count": 71,
   "id": "23e13abb",
   "metadata": {},
   "outputs": [
    {
     "data": {
      "text/plain": [
       "<1x962037 sparse matrix of type '<class 'numpy.float64'>'\n",
       "\twith 610 stored elements in Compressed Sparse Row format>"
      ]
     },
     "execution_count": 71,
     "metadata": {},
     "output_type": "execute_result"
    }
   ],
   "source": [
    "input_array = sparse_matrix[ind]\n",
    "input_array"
   ]
  },
  {
   "cell_type": "code",
   "execution_count": 72,
   "id": "1e6294ef",
   "metadata": {},
   "outputs": [],
   "source": [
    "similarity_scores = cosine_similarity(input_array, sparse_matrix)"
   ]
  },
  {
   "cell_type": "code",
   "execution_count": null,
   "id": "0db8f8de",
   "metadata": {},
   "outputs": [
    {
     "data": {
      "text/plain": [
       "array([[0.        , 0.        , 0.        , ..., 0.07217127, 0.08225488,\n",
       "        1.        ]])"
      ]
     },
     "execution_count": 73,
     "metadata": {},
     "output_type": "execute_result"
    }
   ],
   "source": [
    "np.sort(similarity_scores)[-6:][::-1] # top 6 scores"
   ]
  },
  {
   "cell_type": "code",
   "execution_count": 74,
   "id": "2375c116",
   "metadata": {},
   "outputs": [
    {
     "data": {
      "text/plain": [
       "(1, 30459)"
      ]
     },
     "execution_count": 74,
     "metadata": {},
     "output_type": "execute_result"
    }
   ],
   "source": [
    "similarity_scores.shape"
   ]
  },
  {
   "cell_type": "code",
   "execution_count": 75,
   "id": "bf0369ef",
   "metadata": {},
   "outputs": [
    {
     "data": {
      "text/plain": [
       "array([17018, 24529, 28964,  3620,  9470,  7882], dtype=int64)"
      ]
     },
     "execution_count": 75,
     "metadata": {},
     "output_type": "execute_result"
    }
   ],
   "source": [
    "np.argsort(similarity_scores.ravel())[-6:][::-1]"
   ]
  },
  {
   "cell_type": "code",
   "execution_count": 77,
   "id": "bd111df5",
   "metadata": {},
   "outputs": [],
   "source": [
    "recommendations = df['track_id'].cat.categories[np.argsort(similarity_scores.ravel())[-6:][::-1]]"
   ]
  },
  {
   "cell_type": "code",
   "execution_count": 78,
   "id": "5c58eda0",
   "metadata": {},
   "outputs": [
    {
     "data": {
      "text/plain": [
       "Index(['TROINZB128F932F740', 'TRURCEI12903CA4395', 'TRYLWIW12903CA438D',\n",
       "       'TRCVMAF12903D00E61', 'TRHRNEE12903CFDBD4', 'TRGEUXY128F4226B26'],\n",
       "      dtype='string', name='track_id')"
      ]
     },
     "execution_count": 78,
     "metadata": {},
     "output_type": "execute_result"
    }
   ],
   "source": [
    "recommendations"
   ]
  },
  {
   "cell_type": "code",
   "execution_count": 79,
   "id": "ffce56e0",
   "metadata": {},
   "outputs": [
    {
     "data": {
      "text/html": [
       "<div>\n",
       "<style scoped>\n",
       "    .dataframe tbody tr th:only-of-type {\n",
       "        vertical-align: middle;\n",
       "    }\n",
       "\n",
       "    .dataframe tbody tr th {\n",
       "        vertical-align: top;\n",
       "    }\n",
       "\n",
       "    .dataframe thead th {\n",
       "        text-align: right;\n",
       "    }\n",
       "</style>\n",
       "<table border=\"1\" class=\"dataframe\">\n",
       "  <thead>\n",
       "    <tr style=\"text-align: right;\">\n",
       "      <th></th>\n",
       "      <th>track_id</th>\n",
       "      <th>name</th>\n",
       "      <th>artist</th>\n",
       "      <th>spotify_preview_url</th>\n",
       "    </tr>\n",
       "  </thead>\n",
       "  <tbody>\n",
       "    <tr>\n",
       "      <th>3337</th>\n",
       "      <td>TROINZB128F932F740</td>\n",
       "      <td>Crazy in Love</td>\n",
       "      <td>Beyoncé</td>\n",
       "      <td>https://p.scdn.co/mp3-preview/807828ea7070bda7...</td>\n",
       "    </tr>\n",
       "  </tbody>\n",
       "</table>\n",
       "</div>"
      ],
      "text/plain": [
       "                track_id           name   artist  \\\n",
       "3337  TROINZB128F932F740  Crazy in Love  Beyoncé   \n",
       "\n",
       "                                    spotify_preview_url  \n",
       "3337  https://p.scdn.co/mp3-preview/807828ea7070bda7...  "
      ]
     },
     "execution_count": 79,
     "metadata": {},
     "output_type": "execute_result"
    }
   ],
   "source": [
    "filtered_songs[filtered_songs['name'] == 'Crazy in Love']"
   ]
  },
  {
   "cell_type": "code",
   "execution_count": 80,
   "id": "4dd4cafb",
   "metadata": {},
   "outputs": [
    {
     "data": {
      "text/html": [
       "<div>\n",
       "<style scoped>\n",
       "    .dataframe tbody tr th:only-of-type {\n",
       "        vertical-align: middle;\n",
       "    }\n",
       "\n",
       "    .dataframe tbody tr th {\n",
       "        vertical-align: top;\n",
       "    }\n",
       "\n",
       "    .dataframe thead th {\n",
       "        text-align: right;\n",
       "    }\n",
       "</style>\n",
       "<table border=\"1\" class=\"dataframe\">\n",
       "  <thead>\n",
       "    <tr style=\"text-align: right;\">\n",
       "      <th></th>\n",
       "      <th>track_id</th>\n",
       "      <th>name</th>\n",
       "      <th>artist</th>\n",
       "      <th>spotify_preview_url</th>\n",
       "    </tr>\n",
       "  </thead>\n",
       "  <tbody>\n",
       "    <tr>\n",
       "      <th>3337</th>\n",
       "      <td>TROINZB128F932F740</td>\n",
       "      <td>Crazy in Love</td>\n",
       "      <td>Beyoncé</td>\n",
       "      <td>https://p.scdn.co/mp3-preview/807828ea7070bda7...</td>\n",
       "    </tr>\n",
       "    <tr>\n",
       "      <th>8871</th>\n",
       "      <td>TRCVMAF12903D00E61</td>\n",
       "      <td>Delirium</td>\n",
       "      <td>Satyricon</td>\n",
       "      <td>https://p.scdn.co/mp3-preview/d039120c4f5f1e8d...</td>\n",
       "    </tr>\n",
       "    <tr>\n",
       "      <th>17287</th>\n",
       "      <td>TRGEUXY128F4226B26</td>\n",
       "      <td>Monday Massacre</td>\n",
       "      <td>Mr. Oizo</td>\n",
       "      <td>https://p.scdn.co/mp3-preview/4d6dbacc93e3ef7e...</td>\n",
       "    </tr>\n",
       "    <tr>\n",
       "      <th>26611</th>\n",
       "      <td>TRYLWIW12903CA438D</td>\n",
       "      <td>Dreadlock</td>\n",
       "      <td>Future Prophecies</td>\n",
       "      <td>https://p.scdn.co/mp3-preview/13ca5435549b0e46...</td>\n",
       "    </tr>\n",
       "    <tr>\n",
       "      <th>26701</th>\n",
       "      <td>TRURCEI12903CA4395</td>\n",
       "      <td>Bring the Noise</td>\n",
       "      <td>Future Prophecies</td>\n",
       "      <td>https://p.scdn.co/mp3-preview/d558b155fb9dcfe4...</td>\n",
       "    </tr>\n",
       "    <tr>\n",
       "      <th>27774</th>\n",
       "      <td>TRHRNEE12903CFDBD4</td>\n",
       "      <td>Lunar Sea</td>\n",
       "      <td>Camel</td>\n",
       "      <td>https://p.scdn.co/mp3-preview/8bf35f13a0ece173...</td>\n",
       "    </tr>\n",
       "  </tbody>\n",
       "</table>\n",
       "</div>"
      ],
      "text/plain": [
       "                 track_id             name             artist  \\\n",
       "3337   TROINZB128F932F740    Crazy in Love            Beyoncé   \n",
       "8871   TRCVMAF12903D00E61         Delirium          Satyricon   \n",
       "17287  TRGEUXY128F4226B26  Monday Massacre           Mr. Oizo   \n",
       "26611  TRYLWIW12903CA438D        Dreadlock  Future Prophecies   \n",
       "26701  TRURCEI12903CA4395  Bring the Noise  Future Prophecies   \n",
       "27774  TRHRNEE12903CFDBD4        Lunar Sea              Camel   \n",
       "\n",
       "                                     spotify_preview_url  \n",
       "3337   https://p.scdn.co/mp3-preview/807828ea7070bda7...  \n",
       "8871   https://p.scdn.co/mp3-preview/d039120c4f5f1e8d...  \n",
       "17287  https://p.scdn.co/mp3-preview/4d6dbacc93e3ef7e...  \n",
       "26611  https://p.scdn.co/mp3-preview/13ca5435549b0e46...  \n",
       "26701  https://p.scdn.co/mp3-preview/d558b155fb9dcfe4...  \n",
       "27774  https://p.scdn.co/mp3-preview/8bf35f13a0ece173...  "
      ]
     },
     "execution_count": 80,
     "metadata": {},
     "output_type": "execute_result"
    }
   ],
   "source": [
    "filtered_songs[filtered_songs['track_id'].isin(recommendations)]"
   ]
  },
  {
   "cell_type": "code",
   "execution_count": 83,
   "id": "5ccd4d72",
   "metadata": {},
   "outputs": [],
   "source": [
    "def collaborative_recommendation(song_name,user_data,songs_data,interaction_matrix,k=5):\n",
    "    # fetch the row from songs data\n",
    "    song_row = songs_data[songs_data[\"name\"] == song_name]\n",
    "    # track_id of input song\n",
    "    input_track_id = song_row['track_id'].values.item()\n",
    "    # index value of track_id\n",
    "    ind = np.where(user_data['track_id'].cat.categories == input_track_id)[0].item()\n",
    "    # fetch the input vector\n",
    "    input_array = interaction_matrix[ind]\n",
    "    # get similarity scores\n",
    "    similarity_scores = cosine_similarity(input_array, interaction_matrix)\n",
    "    # get top k recommendations\n",
    "    recommendation_track_ids = df['track_id'].cat.categories[np.argsort(similarity_scores.ravel())[-k-1:][::-1]]\n",
    "    # get top scores\n",
    "    top_scores = np.sort(similarity_scores.ravel())[-k-1:][::-1]\n",
    "    # get the songs from data and print\n",
    "    temp_df = pd.DataFrame({\"track_id\":recommendation_track_ids.tolist(),\n",
    "                            \"score\":top_scores})\n",
    "    top_k_songs = (\n",
    "                    songs_data\n",
    "                    .loc[songs_data[\"track_id\"].isin(recommendation_track_ids)]\n",
    "                    .merge(temp_df,on=\"track_id\")\n",
    "                    .sort_values(by=\"score\",ascending=False)\n",
    "                    .drop(columns=[\"track_id\",\"score\"])\n",
    "                    .reset_index(drop=True)\n",
    "                    )\n",
    "    return top_k_songs"
   ]
  },
  {
   "cell_type": "code",
   "execution_count": 84,
   "id": "5f877b2e",
   "metadata": {},
   "outputs": [
    {
     "data": {
      "text/html": [
       "<div>\n",
       "<style scoped>\n",
       "    .dataframe tbody tr th:only-of-type {\n",
       "        vertical-align: middle;\n",
       "    }\n",
       "\n",
       "    .dataframe tbody tr th {\n",
       "        vertical-align: top;\n",
       "    }\n",
       "\n",
       "    .dataframe thead th {\n",
       "        text-align: right;\n",
       "    }\n",
       "</style>\n",
       "<table border=\"1\" class=\"dataframe\">\n",
       "  <thead>\n",
       "    <tr style=\"text-align: right;\">\n",
       "      <th></th>\n",
       "      <th>name</th>\n",
       "      <th>artist</th>\n",
       "      <th>spotify_preview_url</th>\n",
       "    </tr>\n",
       "  </thead>\n",
       "  <tbody>\n",
       "    <tr>\n",
       "      <th>0</th>\n",
       "      <td>Crazy in Love</td>\n",
       "      <td>Beyoncé</td>\n",
       "      <td>https://p.scdn.co/mp3-preview/807828ea7070bda7...</td>\n",
       "    </tr>\n",
       "    <tr>\n",
       "      <th>1</th>\n",
       "      <td>Bring the Noise</td>\n",
       "      <td>Future Prophecies</td>\n",
       "      <td>https://p.scdn.co/mp3-preview/d558b155fb9dcfe4...</td>\n",
       "    </tr>\n",
       "    <tr>\n",
       "      <th>2</th>\n",
       "      <td>Dreadlock</td>\n",
       "      <td>Future Prophecies</td>\n",
       "      <td>https://p.scdn.co/mp3-preview/13ca5435549b0e46...</td>\n",
       "    </tr>\n",
       "    <tr>\n",
       "      <th>3</th>\n",
       "      <td>Delirium</td>\n",
       "      <td>Satyricon</td>\n",
       "      <td>https://p.scdn.co/mp3-preview/d039120c4f5f1e8d...</td>\n",
       "    </tr>\n",
       "    <tr>\n",
       "      <th>4</th>\n",
       "      <td>Lunar Sea</td>\n",
       "      <td>Camel</td>\n",
       "      <td>https://p.scdn.co/mp3-preview/8bf35f13a0ece173...</td>\n",
       "    </tr>\n",
       "    <tr>\n",
       "      <th>5</th>\n",
       "      <td>Monday Massacre</td>\n",
       "      <td>Mr. Oizo</td>\n",
       "      <td>https://p.scdn.co/mp3-preview/4d6dbacc93e3ef7e...</td>\n",
       "    </tr>\n",
       "  </tbody>\n",
       "</table>\n",
       "</div>"
      ],
      "text/plain": [
       "              name             artist  \\\n",
       "0    Crazy in Love            Beyoncé   \n",
       "1  Bring the Noise  Future Prophecies   \n",
       "2        Dreadlock  Future Prophecies   \n",
       "3         Delirium          Satyricon   \n",
       "4        Lunar Sea              Camel   \n",
       "5  Monday Massacre           Mr. Oizo   \n",
       "\n",
       "                                 spotify_preview_url  \n",
       "0  https://p.scdn.co/mp3-preview/807828ea7070bda7...  \n",
       "1  https://p.scdn.co/mp3-preview/d558b155fb9dcfe4...  \n",
       "2  https://p.scdn.co/mp3-preview/13ca5435549b0e46...  \n",
       "3  https://p.scdn.co/mp3-preview/d039120c4f5f1e8d...  \n",
       "4  https://p.scdn.co/mp3-preview/8bf35f13a0ece173...  \n",
       "5  https://p.scdn.co/mp3-preview/4d6dbacc93e3ef7e...  "
      ]
     },
     "execution_count": 84,
     "metadata": {},
     "output_type": "execute_result"
    }
   ],
   "source": [
    "\n",
    "collaborative_recommendation(song_name=\"Crazy in Love\",\n",
    "                             user_data=df,\n",
    "                             songs_data=filtered_songs,\n",
    "                             interaction_matrix=sparse_matrix)"
   ]
  },
  {
   "cell_type": "code",
   "execution_count": null,
   "id": "d4042556",
   "metadata": {},
   "outputs": [],
   "source": []
  }
 ],
 "metadata": {
  "kernelspec": {
   "display_name": "myenv",
   "language": "python",
   "name": "python3"
  },
  "language_info": {
   "codemirror_mode": {
    "name": "ipython",
    "version": 3
   },
   "file_extension": ".py",
   "mimetype": "text/x-python",
   "name": "python",
   "nbconvert_exporter": "python",
   "pygments_lexer": "ipython3",
   "version": "3.11.3"
  }
 },
 "nbformat": 4,
 "nbformat_minor": 5
}
